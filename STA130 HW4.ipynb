{
 "cells": [
  {
   "cell_type": "markdown",
   "id": "2eda3c8e",
   "metadata": {},
   "source": [
    "Question 1:\n",
    "Standard Deviation is a measure of how spread out the original data points are. It shows how much individual values in a dataset typically differ from the mean of the dataset. And Standard Error of the Mean measures the accuracy with which a sample mean represents the population mean. It is the standard deviation of the sampling distribution of the sample means.\n",
    "\n",
    "You can think of it this way, the Standard Deviation tells you how much variability exists in the original data, while the Standard Error of the Mean tells you how much variability exists in your estimate of the mean if you were to take repeated samples.\n",
    "\n",
    "Summary of ChatBot Interaction:\n",
    "Include a concise explanation that you received from a ChatBot on the difference between the two metrics."
   ]
  },
  {
   "cell_type": "markdown",
   "id": "253cd01d",
   "metadata": {},
   "source": [
    "Question 2:\n",
    "To create a 95% confidence interval using the standard error of the mean:\n",
    "\n",
    "Calculate the sample mean.\n",
    "Calculate the standard error of the mean (SEM).\n",
    "Multiply the SEM by approximately 1.96 (for a 95% confidence level, assuming normal distribution).\n",
    "The confidence interval is given by the range:\n",
    "Sample Mean ± 1.96 × SEM\n",
    "This range will cover approximately 95% of the possible bootstrapped sample means.\n",
    "\n",
    "Summary of ChatBot Interaction:\n",
    "Include how the chatbot described this process in your own words, focusing on practical steps."
   ]
  },
  {
   "cell_type": "markdown",
   "id": "ec4bd994",
   "metadata": {},
   "source": [
    "Question 3:\n",
    "Instead of using Standard Error of the Mean, you can create a confidence interval by generating many bootstrapped samples \n",
    "calculating the mean of each bootstrapped sample.\n",
    "Sorting the bootstrapped means and using the 2.5th percentile as the lower bound and the 97.5th percentile as the upper bound.\n",
    "This method covers exactly 95% of the bootstrapped means.\n"
   ]
  },
  {
   "cell_type": "code",
   "execution_count": 1,
   "id": "e6995bca",
   "metadata": {
    "scrolled": true
   },
   "outputs": [
    {
     "name": "stdout",
     "output_type": "stream",
     "text": [
      "95% CI for median: [80.0, 86.0]\n"
     ]
    }
   ],
   "source": [
    "#Question 4:\n",
    "import numpy as np\n",
    "\n",
    "# Original sample data (can be replaced with actual data)\n",
    "data = np.array([84, 86, 78, 86, 83, 80, 81, 86, 79, 85])\n",
    "\n",
    "# Number of bootstrap samples\n",
    "n_bootstrap = 1000\n",
    "np.random.seed(42)  # Ensure reproducibility\n",
    "\n",
    "# Bootstrap sampling\n",
    "bootstrapped_medians = []\n",
    "for _ in range(n_bootstrap):\n",
    "    boot_sample = np.random.choice(data, size=len(data), replace=True)\n",
    "    bootstrapped_medians.append(np.median(boot_sample))\n",
    "\n",
    "# Calculate 95% confidence interval\n",
    "lower_bound = np.quantile(bootstrapped_medians, 0.025)\n",
    "upper_bound = np.quantile(bootstrapped_medians, 0.975)\n",
    "\n",
    "print(f\"95% CI for median: [{lower_bound}, {upper_bound}]\")\n"
   ]
  },
  {
   "cell_type": "markdown",
   "id": "364c8491",
   "metadata": {},
   "source": [
    "Question 5:\n",
    "Population parameters are fixed but unknown, while sample statistics vary with each sample. Confidence intervals are built around sample statistics to estimate population parameters. The key is that sample statistics are subject to sampling variability, and confidence intervals account for this uncertainty to give us a range in which the population parameter likely lies.\n",
    "\n",
    "Summary of ChatBot Interaction:\n",
    "You can mention how the chatbot helped clarify the importance of distinguishing between sample statistics and population parameters."
   ]
  },
  {
   "cell_type": "markdown",
   "id": "92555c0d",
   "metadata": {},
   "source": [
    "Question 6:\n",
    "(1): Process of Bootstrapping: Bootstrapping involves taking many random samples from your original dataset. Then, for each sample, you calculate the statistic of interest. By doing this many times, you build a distribution of that statistic.\n",
    "\n",
    "(2): Main Purpose: The main goal of bootstrapping is to estimate the variability of a statistic when you don’t have a simple formula for it. It’s a way to approximate what the distribution of your statistic might look like if you could repeatedly sample from the population.\n",
    "\n",
    "(3): Plausibility of Hypothesis: If you have a hypothesis about the population mean, you can use bootstrapping to see if your hypothesized mean is within the bootstrapped confidence interval. If it is, your guess might be plausible."
   ]
  },
  {
   "cell_type": "markdown",
   "id": "b8db6b85",
   "metadata": {},
   "source": [
    "Question 7:\n",
    "\n",
    "When a confidence interval for the mean includes zero, it means that zero is a plausible value for the true mean. In hypothesis testing, if zero is included, you don’t have enough evidence to say that the true mean is different from zero. The opposite would be true if the confidence interval did not include zero, meaning there is strong evidence to reject the null hypothesis."
   ]
  },
  {
   "cell_type": "markdown",
   "id": "ac6bc0ad",
   "metadata": {},
   "source": [
    "Question 8:\n",
    "Problem Introduction\n",
    "You’re asked to assess whether the vaccine has a significant effect on patients' health by comparing initial and final health scores.\n",
    "\n",
    "Null Hypothesis of \"No Effect\"：\n",
    "The null hypothesis in this context would be that the vaccine has no effect on the patients’ health, meaning the change in health scores is not significantly different from zero.\n",
    "\n",
    "Data Visualization：\n",
    "A useful first step would be to visualize the difference in health scores (FinalHealthScore - InitialHealthScore) using histograms or box plots to get a sense of the data distribution.\n",
    "\n",
    "Quantitative Analysis：\n",
    "Next, we can apply bootstrapping to calculate the confidence interval for the mean difference in health scores.\n",
    "\n",
    "Findings and Discussion：\n",
    "Based on the confidence interval, you can conclude whether or not there is enough evidence to reject the null hypothesis.\n",
    "\n",
    "Conclusion：\n",
    "State your conclusion about the effectiveness of the vaccine based on your analysis.\n",
    "\n",
    "\n",
    "\n",
    "###CHATBOT SUMMARIZE:\n",
    "In this assignment, you need to analyze data provided by AliTech to assess whether their new vaccine improves the health of patients. The data includes patients' InitialHealthScore and FinalHealthScore, and the analysis aims to determine if there is a statistically significant improvement after taking the vaccine.\n",
    "\n",
    "The analysis should follow this structure:\n",
    "\n",
    "Null Hypothesis (H0): The vaccine has no effect (i.e., no significant change in health scores).\n",
    "Data Visualization: Create charts (such as box plots, histograms, etc.) to compare InitialHealthScore and FinalHealthScore visually.\n",
    "Bootstrapping Methodology: Perform bootstrapping to assess the variability of the means and generate confidence intervals.\n",
    "Hypothesis Testing: Use the bootstrapped data to test if the null hypothesis can be rejected.\n",
    "Conclusion: Based on the results, determine if the vaccine is effective."
   ]
  },
  {
   "cell_type": "markdown",
   "id": "17c2382b",
   "metadata": {},
   "source": [
    "Question 9：\n",
    "Yes"
   ]
  }
 ],
 "metadata": {
  "kernelspec": {
   "display_name": "Python 3 (ipykernel)",
   "language": "python",
   "name": "python3"
  },
  "language_info": {
   "codemirror_mode": {
    "name": "ipython",
    "version": 3
   },
   "file_extension": ".py",
   "mimetype": "text/x-python",
   "name": "python",
   "nbconvert_exporter": "python",
   "pygments_lexer": "ipython3",
   "version": "3.11.6"
  }
 },
 "nbformat": 4,
 "nbformat_minor": 5
}
